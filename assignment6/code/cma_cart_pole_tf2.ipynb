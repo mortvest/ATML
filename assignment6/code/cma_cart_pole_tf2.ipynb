{
 "cells": [
  {
   "cell_type": "markdown",
   "metadata": {},
   "source": [
    "# CMA-ES for CartPole TF2\n",
    "### Christian Igel, 2019\n",
    "\n",
    "If you have suggestions for improvement, [let me know](mailto:igel@diku.dk)."
   ]
  },
  {
   "cell_type": "code",
   "execution_count": 2,
   "metadata": {},
   "outputs": [],
   "source": [
    "import gym\n",
    "import tensorflow as tf\n",
    "import numpy as np\n",
    "import matplotlib.pyplot as plt\n",
    "import cma\n",
    "\n",
    "# Define task\n",
    "env = gym.make('CartPole-v0')\n",
    "state_space_dimension = 4\n",
    "action_space_dimension = 1"
   ]
  },
  {
   "cell_type": "markdown",
   "metadata": {},
   "source": [
    "First we define some helper functions to count and set network weights:"
   ]
  },
  {
   "cell_type": "code",
   "execution_count": 3,
   "metadata": {},
   "outputs": [],
   "source": [
    "def number_of_weights(weights): \n",
    "    number_of_parameters = 0\n",
    "    for w in weights:\n",
    "        number_of_parameters += w.size\n",
    "    return number_of_parameters\n",
    "\n",
    "def weights_from_vector(weights, parameter_vector):\n",
    "    assert number_of_weights(weights) == parameter_vector.size, \\\n",
    "      'number of parameters do not match: %r vs. %r' % (number_of_weights(weights), parameter_vector.size)\n",
    "    idx = 0\n",
    "    new_weights = []\n",
    "    for w in weights:   \n",
    "        new_weights.append(parameter_vector[idx:idx + w.size].reshape(w.shape))\n",
    "        idx += w.size\n",
    "    return new_weights"
   ]
  },
  {
   "cell_type": "markdown",
   "metadata": {},
   "source": [
    "The task is only regarded as being solved if the network can balance the pole successfully from five different initializations.\n",
    "Then the functions returns -1000."
   ]
  },
  {
   "cell_type": "markdown",
   "metadata": {},
   "source": [
    "Define the policy network:"
   ]
  },
  {
   "cell_type": "code",
   "execution_count": 4,
   "metadata": {},
   "outputs": [
    {
     "name": "stdout",
     "output_type": "stream",
     "text": [
      "Model: \"sequential\"\n",
      "_________________________________________________________________\n",
      "Layer (type)                 Output Shape              Param #   \n",
      "=================================================================\n",
      "dense (Dense)                (None, 10)                40        \n",
      "_________________________________________________________________\n",
      "dense_1 (Dense)              (None, 1)                 10        \n",
      "=================================================================\n",
      "Total params: 50\n",
      "Trainable params: 50\n",
      "Non-trainable params: 0\n",
      "_________________________________________________________________\n",
      "None\n"
     ]
    }
   ],
   "source": [
    "# Model definition\n",
    "no_hidden = 10\n",
    "policy_net = tf.keras.models.Sequential([\n",
    "    tf.keras.layers.Dense(no_hidden, use_bias=False, activation='tanh', input_shape=(state_space_dimension,)),\n",
    "    tf.keras.layers.Dense(1, use_bias=False, activation='linear')\n",
    "])\n",
    "d = number_of_weights(policy_net.get_weights())\n",
    "print(policy_net.summary())"
   ]
  },
  {
   "cell_type": "code",
   "execution_count": 5,
   "metadata": {},
   "outputs": [],
   "source": [
    "# Can we do it k times?\n",
    "def fitness_cart_pole_k(x, k=4):\n",
    "    for i in range(k):\n",
    "        weights = weights_from_vector(policy_net.get_weights(), x)\n",
    "        policy_net.set_weights(weights)\n",
    "        state = env.reset()\n",
    "\n",
    "        R = 0\n",
    "        while True:\n",
    "            out = policy_net(state.reshape((1, state_space_dimension)))\n",
    "            a = int(out > 0)\n",
    "            state, reward, done, _ = env.step(a)\n",
    "            R += reward\n",
    "            \n",
    "            if done:\n",
    "                if(R<200):\n",
    "                    return False\n",
    "                else:\n",
    "                    break\n",
    "    return True\n",
    "\n",
    "def fitness_cart_pole(x):\n",
    "    weights = weights_from_vector(policy_net.get_weights(), x)\n",
    "    policy_net.set_weights(weights)\n",
    "    state = env.reset()\n",
    "    R = 0\n",
    "    while True:\n",
    "        out = policy_net(state.reshape((1, state_space_dimension)))\n",
    "        a = int(out > 0)\n",
    "        state, reward, done, _ = env.step(a)\n",
    "        R += reward\n",
    "            \n",
    "        if done:\n",
    "            if(R == 200):\n",
    "                if(fitness_cart_pole_k(x)):\n",
    "                    return -1000\n",
    "            return -R\n",
    "    "
   ]
  },
  {
   "cell_type": "markdown",
   "metadata": {},
   "source": [
    "Do the learning:"
   ]
  },
  {
   "cell_type": "code",
   "execution_count": 6,
   "metadata": {},
   "outputs": [
    {
     "name": "stderr",
     "output_type": "stream",
     "text": [
      "WARNING: Logging before flag parsing goes to stderr.\n",
      "W1015 14:28:50.176019 140360641607360 base_layer.py:1814] Layer dense is casting an input tensor from dtype float64 to the layer's dtype of float32, which is new behavior in TensorFlow 2.  The layer has dtype float32 because it's dtype defaults to floatx.\n",
      "\n",
      "If you intended to run this layer in float32, you can safely ignore this warning. If in doubt, this warning is likely only an issue if you are porting a TensorFlow 1.X model to TensorFlow 2.\n",
      "\n",
      "To change all layers to have dtype float64 by default, call `tf.keras.backend.set_floatx('float64')`. To change just this layer, pass dtype='float64' to the layer constructor. If you are the author of this layer, you can disable autocasting by passing autocast=False to the base Layer constructor.\n",
      "\n"
     ]
    },
    {
     "name": "stdout",
     "output_type": "stream",
     "text": [
      "(7_w,15)-aCMA-ES (mu_w=4.5,w_1=34%) in dimension 50 (seed=203755, Tue Oct 15 14:28:50 2019)\n",
      "Iterat #Fevals   function value  axis ratio  sigma  min&max std  t[m:s]\n",
      "    1     15 -6.300000000000000e+01 1.0e+00 9.53e-03  1e-02  1e-02 0:00.2\n",
      "    2     30 -6.100000000000000e+01 1.0e+00 9.23e-03  9e-03  9e-03 0:00.5\n",
      "    3     45 -2.000000000000000e+02 1.1e+00 8.93e-03  9e-03  9e-03 0:01.2\n",
      "    5     75 -1.000000000000000e+03 1.1e+00 8.67e-03  9e-03  9e-03 0:05.4\n",
      "termination on ftarget=-999.9 (Tue Oct 15 14:28:55 2019)\n",
      "final/bestever f-value = -2.000000e+02 -1.000000e+03\n",
      "incumbent solution: [-0.00984044 -0.0145872   0.00897445  0.00604748  0.00295987  0.01058524\n",
      "  0.0148456   0.0166346  ...]\n",
      "std deviations: [0.00859662 0.00864387 0.008681   0.00869661 0.0086245  0.0086752\n",
      " 0.00862933 0.00867832 ...]\n"
     ]
    }
   ],
   "source": [
    "# Generate initial search point and initial hidden RNN states\n",
    "initial_weights = np.random.normal(0, 0.01, d)\n",
    "initial_sigma = .01\n",
    "\n",
    "# Do the optimization\n",
    "res = cma.fmin(fitness_cart_pole,  # Objective function\n",
    "               initial_weights,  # Initial search point\n",
    "               initial_sigma,  # Initial global step-size sigma\n",
    "               options={'ftarget': -999.9})"
   ]
  },
  {
   "cell_type": "code",
   "execution_count": 8,
   "metadata": {},
   "outputs": [],
   "source": [
    "# Learn even more on CMA-ES\n",
    "cma.CMAOptions() \n",
    "cma.fmin?"
   ]
  },
  {
   "cell_type": "code",
   "execution_count": null,
   "metadata": {},
   "outputs": [],
   "source": []
  },
  {
   "cell_type": "code",
   "execution_count": null,
   "metadata": {},
   "outputs": [],
   "source": []
  },
  {
   "cell_type": "code",
   "execution_count": null,
   "metadata": {},
   "outputs": [],
   "source": []
  },
  {
   "cell_type": "code",
   "execution_count": null,
   "metadata": {},
   "outputs": [],
   "source": []
  }
 ],
 "metadata": {
  "kernelspec": {
   "display_name": "Python 3",
   "language": "python",
   "name": "python3"
  },
  "language_info": {
   "codemirror_mode": {
    "name": "ipython",
    "version": 3
   },
   "file_extension": ".py",
   "mimetype": "text/x-python",
   "name": "python",
   "nbconvert_exporter": "python",
   "pygments_lexer": "ipython3",
   "version": "3.7.4"
  }
 },
 "nbformat": 4,
 "nbformat_minor": 2
}
